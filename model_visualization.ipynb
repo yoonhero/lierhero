{
 "cells": [
  {
   "cell_type": "code",
   "execution_count": 8,
   "metadata": {},
   "outputs": [
    {
     "data": {
      "text/plain": [
       "'docs\\\\model_v1.png'"
      ]
     },
     "execution_count": 8,
     "metadata": {},
     "output_type": "execute_result"
    }
   ],
   "source": [
    "from model import LierDetectModel\n",
    "from torchviz import make_dot\n",
    "import torch\n",
    "\n",
    "model = LierDetectModel()\n",
    "\n",
    "x1 = torch.zeros(1, 478, 3 )\n",
    "x2 = torch.zeros(1, 10)\n",
    "\n",
    "model(x1, x2)\n",
    "make_dot(model(x1, x2)).render(\"./docs/model_v1\", format=\"png\")\n"
   ]
  },
  {
   "cell_type": "code",
   "execution_count": 11,
   "metadata": {},
   "outputs": [
    {
     "name": "stdout",
     "output_type": "stream",
     "text": [
      "tensor([1], dtype=torch.int32)\n"
     ]
    }
   ],
   "source": [
    "import torch \n",
    "\n",
    "model = torch.load(\"./weights/model_v1.pt\")\n",
    "\n",
    "\n",
    "x1 = torch.zeros(1, 478, 3 )\n",
    "x2 = torch.zeros(1, 10)\n",
    "\n",
    "pred = model(x1, x2)\n",
    "print((pred >= torch.FloatTensor([0.5]))[0].int())"
   ]
  },
  {
   "cell_type": "code",
   "execution_count": 2,
   "metadata": {},
   "outputs": [
    {
     "name": "stdout",
     "output_type": "stream",
     "text": [
      "torch.Size([1, 3328])\n"
     ]
    },
    {
     "data": {
      "text/plain": [
       "'docs\\\\model_v2.png'"
      ]
     },
     "execution_count": 2,
     "metadata": {},
     "output_type": "execute_result"
    }
   ],
   "source": [
    "import torch\n",
    "from torchviz import make_dot\n",
    "from model import LierDetectModelWithCNN\n",
    "\n",
    "model = LierDetectModelWithCNN()\n",
    "\n",
    "x1 = torch.zeros(1, 478, 3)\n",
    "x1 = x1.reshape(x1.shape[0], 3, -1)\n",
    "x2  = torch.zeros(1, 10)\n",
    "\n",
    "make_dot(model(x1, x2)).render(\"./docs/model_v2\", format=\"png\")\n"
   ]
  },
  {
   "cell_type": "code",
   "execution_count": null,
   "metadata": {},
   "outputs": [],
   "source": []
  }
 ],
 "metadata": {
  "kernelspec": {
   "display_name": "mlenv",
   "language": "python",
   "name": "python3"
  },
  "language_info": {
   "codemirror_mode": {
    "name": "ipython",
    "version": 3
   },
   "file_extension": ".py",
   "mimetype": "text/x-python",
   "name": "python",
   "nbconvert_exporter": "python",
   "pygments_lexer": "ipython3",
   "version": "3.9.6"
  },
  "orig_nbformat": 4,
  "vscode": {
   "interpreter": {
    "hash": "9585e0e58f3ada4c387d89b399b9d9bb88b52954ed4e2235f58d5a052e970ed6"
   }
  }
 },
 "nbformat": 4,
 "nbformat_minor": 2
}
